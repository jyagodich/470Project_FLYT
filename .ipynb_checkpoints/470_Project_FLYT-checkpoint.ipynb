{
 "cells": [
  {
   "cell_type": "code",
   "execution_count": 44,
   "metadata": {},
   "outputs": [],
   "source": [
    "import pandas as pd\n",
    "import matplotlib\n",
    "import matplotlib.pyplot as plt\n",
    "import numpy as np\n",
    "from numpy import array\n",
    "\n",
    "import sklearn\n",
    "from sklearn.model_selection import train_test_split\n",
    "from sklearn.linear_model import LinearRegression\n",
    "from sklearn.metrics import mean_squared_error, r2_score\n",
    "from sklearn.linear_model import Ridge\n",
    "from sklearn.linear_model import Lasso\n",
    "\n",
    "from keras.models import Sequential\n",
    "from keras.layers import LSTM\n",
    "from keras.layers import Dense"
   ]
  },
  {
   "cell_type": "code",
   "execution_count": 15,
   "metadata": {},
   "outputs": [],
   "source": [
    "# Read csv of Education distribution\n",
    "# Remove all the entries that don't have \"County\"\n",
    "df = pd.read_csv('Education_data_compiled.csv')\n",
    "df = df[df['Area name'].str.contains('County')]\n",
    "df = df.sort_values(by=['State','Area name'],ignore_index=True)"
   ]
  },
  {
   "cell_type": "code",
   "execution_count": 16,
   "metadata": {
    "scrolled": true
   },
   "outputs": [],
   "source": [
    "# Add columns of Unemployment and Median HH Income\n",
    "new_df = pd.read_csv('Unemployed_data_compiled.csv')\n",
    "new_df = new_df[new_df['Area name'].str.contains('County')]\n",
    "new_df.sort_values(by=['Area name'],ignore_index=True)\n",
    "\n",
    "# For this file, area name stick with state => split it\n",
    "def f(x,delm=','):\n",
    "    return x.split(delm)[0], x.split(delm)[1][1:]\n",
    "\n",
    "new_df['State'] = new_df['Area name'].map(lambda x: f(x)[1])\n",
    "new_df['Area name'] = new_df['Area name'].map(lambda x: f(x)[0])\n",
    "\n",
    "new_df = new_df.sort_values(by=['State','Area name'],ignore_index=True)\n",
    "result = pd.merge(df,new_df,how='inner', on=['Area name','State'])\n",
    "df = result.rename(columns={\"Area name\": \"County\", \"Unemployment_rate_2019\": \"Percent of unemployment 2019\", \n",
    "                       \"Median_Household_Income_2018\": \"Median Household Income 2018\"})\n"
   ]
  },
  {
   "cell_type": "code",
   "execution_count": 25,
   "metadata": {},
   "outputs": [
    {
     "data": {
      "text/html": [
       "<div>\n",
       "<style scoped>\n",
       "    .dataframe tbody tr th:only-of-type {\n",
       "        vertical-align: middle;\n",
       "    }\n",
       "\n",
       "    .dataframe tbody tr th {\n",
       "        vertical-align: top;\n",
       "    }\n",
       "\n",
       "    .dataframe thead th {\n",
       "        text-align: right;\n",
       "    }\n",
       "</style>\n",
       "<table border=\"1\" class=\"dataframe\">\n",
       "  <thead>\n",
       "    <tr style=\"text-align: right;\">\n",
       "      <th></th>\n",
       "      <th>date</th>\n",
       "      <th>county</th>\n",
       "      <th>state</th>\n",
       "      <th>cases</th>\n",
       "      <th>deaths</th>\n",
       "    </tr>\n",
       "  </thead>\n",
       "  <tbody>\n",
       "    <tr>\n",
       "      <th>1249</th>\n",
       "      <td>3/11/2020</td>\n",
       "      <td>Baltimore</td>\n",
       "      <td>Maryland</td>\n",
       "      <td>1</td>\n",
       "      <td>0</td>\n",
       "    </tr>\n",
       "    <tr>\n",
       "      <th>1467</th>\n",
       "      <td>3/12/2020</td>\n",
       "      <td>Baltimore</td>\n",
       "      <td>Maryland</td>\n",
       "      <td>1</td>\n",
       "      <td>0</td>\n",
       "    </tr>\n",
       "    <tr>\n",
       "      <th>1745</th>\n",
       "      <td>3/13/2020</td>\n",
       "      <td>Baltimore</td>\n",
       "      <td>Maryland</td>\n",
       "      <td>2</td>\n",
       "      <td>0</td>\n",
       "    </tr>\n",
       "    <tr>\n",
       "      <th>2085</th>\n",
       "      <td>3/14/2020</td>\n",
       "      <td>Baltimore</td>\n",
       "      <td>Maryland</td>\n",
       "      <td>3</td>\n",
       "      <td>0</td>\n",
       "    </tr>\n",
       "    <tr>\n",
       "      <th>2484</th>\n",
       "      <td>3/15/2020</td>\n",
       "      <td>Baltimore</td>\n",
       "      <td>Maryland</td>\n",
       "      <td>3</td>\n",
       "      <td>0</td>\n",
       "    </tr>\n",
       "    <tr>\n",
       "      <th>...</th>\n",
       "      <td>...</td>\n",
       "      <td>...</td>\n",
       "      <td>...</td>\n",
       "      <td>...</td>\n",
       "      <td>...</td>\n",
       "    </tr>\n",
       "    <tr>\n",
       "      <th>558340</th>\n",
       "      <td>9/22/2020</td>\n",
       "      <td>Baltimore</td>\n",
       "      <td>Maryland</td>\n",
       "      <td>17546</td>\n",
       "      <td>619</td>\n",
       "    </tr>\n",
       "    <tr>\n",
       "      <th>561577</th>\n",
       "      <td>9/23/2020</td>\n",
       "      <td>Baltimore</td>\n",
       "      <td>Maryland</td>\n",
       "      <td>17603</td>\n",
       "      <td>621</td>\n",
       "    </tr>\n",
       "    <tr>\n",
       "      <th>564817</th>\n",
       "      <td>9/24/2020</td>\n",
       "      <td>Baltimore</td>\n",
       "      <td>Maryland</td>\n",
       "      <td>17678</td>\n",
       "      <td>621</td>\n",
       "    </tr>\n",
       "    <tr>\n",
       "      <th>568057</th>\n",
       "      <td>9/25/2020</td>\n",
       "      <td>Baltimore</td>\n",
       "      <td>Maryland</td>\n",
       "      <td>17743</td>\n",
       "      <td>622</td>\n",
       "    </tr>\n",
       "    <tr>\n",
       "      <th>571299</th>\n",
       "      <td>9/26/2020</td>\n",
       "      <td>Baltimore</td>\n",
       "      <td>Maryland</td>\n",
       "      <td>17805</td>\n",
       "      <td>622</td>\n",
       "    </tr>\n",
       "  </tbody>\n",
       "</table>\n",
       "<p>200 rows × 5 columns</p>\n",
       "</div>"
      ],
      "text/plain": [
       "             date     county     state  cases  deaths\n",
       "1249    3/11/2020  Baltimore  Maryland      1       0\n",
       "1467    3/12/2020  Baltimore  Maryland      1       0\n",
       "1745    3/13/2020  Baltimore  Maryland      2       0\n",
       "2085    3/14/2020  Baltimore  Maryland      3       0\n",
       "2484    3/15/2020  Baltimore  Maryland      3       0\n",
       "...           ...        ...       ...    ...     ...\n",
       "558340  9/22/2020  Baltimore  Maryland  17546     619\n",
       "561577  9/23/2020  Baltimore  Maryland  17603     621\n",
       "564817  9/24/2020  Baltimore  Maryland  17678     621\n",
       "568057  9/25/2020  Baltimore  Maryland  17743     622\n",
       "571299  9/26/2020  Baltimore  Maryland  17805     622\n",
       "\n",
       "[200 rows x 5 columns]"
      ]
     },
     "execution_count": 25,
     "metadata": {},
     "output_type": "execute_result"
    }
   ],
   "source": [
    "# Add data of covid case\n",
    "COVID_counties_df=pd.read_csv('us_counties_covid19_daily.csv')\n",
    "del COVID_counties_df['fips']\n",
    "COVID_baltimore_df=COVID_counties_df[COVID_counties_df['county']=='Baltimore']"
   ]
  },
  {
   "cell_type": "code",
   "execution_count": 69,
   "metadata": {},
   "outputs": [],
   "source": [
    "# Run the prediction\n",
    "# univariate lstm example\n",
    "\n",
    "# split a univariate sequence into samples\n",
    "def split_sequence(sequence, n_steps, features_data): #features = other data of the county \n",
    "    X, y = list(), list()\n",
    "    for i in range(len(sequence)):\n",
    "        # find the end of this pattern\n",
    "        end_ix = i + n_steps\n",
    "        # check if we are beyond the sequence\n",
    "        if end_ix > len(sequence)-1:\n",
    "            break\n",
    "        # gather input and output parts of the pattern\n",
    "        seq_x, seq_y = sequence[i:end_ix], sequence[end_ix]\n",
    "        seq_x = np.append(seq_x,features_data)\n",
    "        X.append(seq_x)\n",
    "        y.append(seq_y)\n",
    "    return array(X), array(y)\n",
    "\n",
    "# Perform prediction \n",
    "def single_pred(x_input, n_steps, features_length, n_features):\n",
    "    x_input = x_input.reshape((1, n_steps+features_length, n_features))\n",
    "    yhat = model.predict(x_input, verbose=0)\n",
    "    return yhat\n",
    "\n",
    "def make_prediction(cases_train, n_steps, features_data, num_pred):\n",
    "    features_length = len(features_data)\n",
    "    yhat_array = np.zeros(num_pred)\n",
    "    for i in range(num_pred):\n",
    "        if i == 0:\n",
    "            x_input = cases_train[-n_steps:]\n",
    "            x_input = np.append(x_input,features_data)\n",
    "            yhat = single_pred(x_input, n_steps, features_length, n_features)\n",
    "            yhat_array[i] = yhat\n",
    "        else:\n",
    "            x_input = np.append(x_input[1:n_steps],yhat) # create feature from previous prediction\n",
    "            x_input = np.append(x_input,features_data) # insert stationary feature\n",
    "            yhat = single_pred(x_input, n_steps, features_length, n_features)\n",
    "            yhat_array[i] = yhat\n",
    "    return yhat_array"
   ]
  },
  {
   "cell_type": "code",
   "execution_count": 73,
   "metadata": {},
   "outputs": [],
   "source": [
    "# Data:\n",
    "cases = np.array(COVID_baltimore_df['cases'])\n",
    "# Split data to train the model: 70:30\n",
    "cases_train = cases[0:int(len(cases)*0.7)]\n",
    "cases_test = cases[int(len(cases)*0.7):]\n",
    "\n",
    "features_data = np.array([2,40,3])\n",
    "features_length = len(features_data)"
   ]
  },
  {
   "cell_type": "code",
   "execution_count": 74,
   "metadata": {},
   "outputs": [
    {
     "name": "stdout",
     "output_type": "stream",
     "text": [
      "[11328.43359375 11496.75292969 11665.36425781 11830.86035156\n",
      " 11982.97851562 12138.59667969 12289.93359375 12444.03417969\n",
      " 12610.60058594 12777.4140625  12944.14160156 13111.43261719\n",
      " 13281.08984375 13452.91601562 13627.61230469 13805.22460938\n",
      " 13984.59863281 14165.91699219 14349.45996094 14535.43652344\n",
      " 14723.84863281 14914.72363281 15108.02636719 15303.70117188\n",
      " 15501.83496094 15702.49316406 15905.71484375 16111.52636719\n",
      " 16319.94921875 16531.0078125  16744.73632812 16961.18164062\n",
      " 17180.36914062 17402.34570312 17627.13671875 17854.77734375\n",
      " 18085.30664062 18318.7578125  18555.171875   18794.58398438\n",
      " 19037.0390625  19282.56445312 19531.20507812 19783.\n",
      " 20037.98828125 20296.21679688 20557.71484375 20822.53710938\n",
      " 21090.71679688 21362.29492188 21637.31835938 21915.83398438\n",
      " 22197.88476562 22483.50976562 22772.76171875 23065.6796875\n",
      " 23362.31640625 23662.7109375  23966.92382812 24274.9921875 ]\n"
     ]
    }
   ],
   "source": [
    "# Perform prediction:\n",
    "\n",
    "# choose a number of time steps (how many days to use for prediction)\n",
    "n_steps = 7\n",
    "\n",
    "# split into samples\n",
    "X, y = split_sequence(cases_train, n_steps,features_data)\n",
    "# reshape from [samples, timesteps] into [samples, timesteps, features]\n",
    "n_features = 1\n",
    "X = X.reshape((X.shape[0], X.shape[1], n_features))\n",
    "\n",
    "# define model\n",
    "model = Sequential()\n",
    "model.add(LSTM(50, activation='relu', input_shape=(n_steps+features_length, n_features)))  # features_length is length of features_data array \n",
    "model.add(Dense(1))\n",
    "model.compile(optimizer='adam', loss='mse')\n",
    "\n",
    "# fit model\n",
    "model.fit(X, y, epochs=200, verbose=0)\n",
    "\n",
    "yhat_array = make_prediction(cases_train, n_steps, np.array([2,40,3]),len(cases_test))\n",
    "print(yhat_array)\n"
   ]
  },
  {
   "cell_type": "code",
   "execution_count": 75,
   "metadata": {},
   "outputs": [
    {
     "data": {
      "text/plain": [
       "<matplotlib.legend.Legend at 0x161b4c88898>"
      ]
     },
     "execution_count": 75,
     "metadata": {},
     "output_type": "execute_result"
    },
    {
     "data": {
      "image/png": "[encoded data removed]",
      "text/plain": [
       "<Figure size 800x600 with 1 Axes>"
      ]
     },
     "metadata": {
      "needs_background": "light"
     },
     "output_type": "display_data"
    }
   ],
   "source": [
    "fig,ax = plt.subplots(figsize=(8,6),dpi=100)\n",
    "ax.plot(cases,'o',markersize=2,alpha=0.2,label='observed')\n",
    "ax.plot(np.append(cases_train,yhat_array),'or',markersize=2,alpha=0.2,label='predict')\n",
    "ax.plot([int(len(cases)*0.7),int(len(cases)*0.7)],[0,25000],'--',label='train-test split')\n",
    "ax.set_xlabel('days')\n",
    "ax.set_ylabel('number of cases')\n",
    "ax.legend()"
   ]
  },
  {
   "cell_type": "code",
   "execution_count": 46,
   "metadata": {},
   "outputs": [
    {
     "data": {
      "text/plain": [
       "array([11445, 11637, 11840, 12019, 12197, 12423, 12547, 12688, 12799,\n",
       "       12937, 13082, 13279, 13422, 13396, 13485, 13615, 13722, 13870,\n",
       "       13964, 14066, 14139, 14203, 14350, 14494, 14608, 14716, 14811,\n",
       "       14846, 14936, 15067, 15172, 15297, 15405, 15502, 15616, 15688,\n",
       "       15848, 15982, 16104, 16206, 16325, 16370, 16405, 16464, 16543,\n",
       "       16671, 16747, 16820, 16928, 17188, 17244, 17311, 17388, 17446,\n",
       "       17509, 17546, 17603, 17678, 17743, 17805], dtype=int64)"
      ]
     },
     "execution_count": 46,
     "metadata": {},
     "output_type": "execute_result"
    }
   ],
   "source": [
    "cases_train\n",
    "cases_test\n"
   ]
  }
 ],
 "metadata": {
  "kernelspec": {
   "display_name": "Python 3",
   "language": "python",
   "name": "python3"
  },
  "language_info": {
   "codemirror_mode": {
    "name": "ipython",
    "version": 3
   },
   "file_extension": ".py",
   "mimetype": "text/x-python",
   "name": "python",
   "nbconvert_exporter": "python",
   "pygments_lexer": "ipython3",
   "version": "3.6.12"
  }
 },
 "nbformat": 4,
 "nbformat_minor": 4
}
