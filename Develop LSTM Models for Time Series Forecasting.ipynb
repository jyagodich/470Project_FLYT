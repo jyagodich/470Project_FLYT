{
 "cells": [
  {
   "cell_type": "code",
   "execution_count": 1,
   "metadata": {},
   "outputs": [
    {
     "name": "stderr",
     "output_type": "stream",
     "text": [
      "Using TensorFlow backend.\n"
     ]
    }
   ],
   "source": [
    "import numpy as np\n",
    "from numpy import array\n",
    "import matplotlib.pyplot as plt\n",
    "from keras.models import Sequential\n",
    "from keras.layers import LSTM\n",
    "from keras.layers import Dense"
   ]
  },
  {
   "cell_type": "code",
   "execution_count": 12,
   "metadata": {},
   "outputs": [
    {
     "name": "stdout",
     "output_type": "stream",
     "text": [
      "[[10 20 30  2 40  3]\n",
      " [20 30 40  2 40  3]\n",
      " [30 40 50  2 40  3]\n",
      " [40 50 60  2 40  3]\n",
      " [50 60 70  2 40  3]\n",
      " [60 70 80  2 40  3]] [40 50 60 70 80 90]\n",
      "[[100.49966]]\n"
     ]
    }
   ],
   "source": [
    "# univariate lstm example\n",
    "\n",
    "# split a univariate sequence into samples\n",
    "def split_sequence(sequence, n_steps, features_data): #features = other data of the county \n",
    "    X, y = list(), list()\n",
    "    for i in range(len(sequence)):\n",
    "        # find the end of this pattern\n",
    "        end_ix = i + n_steps\n",
    "        # check if we are beyond the sequence\n",
    "        if end_ix > len(sequence)-1:\n",
    "            break\n",
    "        # gather input and output parts of the pattern\n",
    "        seq_x, seq_y = sequence[i:end_ix], sequence[end_ix]\n",
    "        seq_x = np.append(seq_x,features_data)\n",
    "        X.append(seq_x)\n",
    "        y.append(seq_y)\n",
    "    return array(X), array(y)\n",
    "\n",
    "\n",
    "# define input sequence\n",
    "raw_seq = [10, 20, 30, 40, 50, 60, 70, 80, 90]\n",
    "features_data = np.array([2,40,3])\n",
    "features_length = len(features_data)\n",
    "\n",
    "# choose a number of time steps\n",
    "n_steps = 3\n",
    "# split into samples\n",
    "X, y = split_sequence(raw_seq, n_steps,features_data)\n",
    "print(X,y)\n",
    "\n",
    "# reshape from [samples, timesteps] into [samples, timesteps, features]\n",
    "n_features = 1\n",
    "X = X.reshape((X.shape[0], X.shape[1], n_features))\n",
    "# define model\n",
    "model = Sequential()\n",
    "model.add(LSTM(50, activation='relu', input_shape=(n_steps+features_length, n_features)))  # features_length is length of features_data array \n",
    "model.add(Dense(1))\n",
    "model.compile(optimizer='adam', loss='mse')\n",
    "# fit model\n",
    "model.fit(X, y, epochs=200, verbose=0)\n",
    "\n",
    "# demonstrate prediction\n",
    "x_input = array([70, 80, 90, 2, 40, 3])\n",
    "x_input = x_input.reshape((1, n_steps+features_length, n_features))\n",
    "yhat = model.predict(x_input, verbose=0)\n",
    "print(yhat)\n",
    "\n"
   ]
  },
  {
   "cell_type": "code",
   "execution_count": 8,
   "metadata": {},
   "outputs": [
    {
     "name": "stdout",
     "output_type": "stream",
     "text": [
      "[101.4344101  113.49117279 126.44288635 140.77462769 156.34413147]\n"
     ]
    }
   ],
   "source": [
    "# Perform prediction \n",
    "def single_pred(x_input, n_steps, features_length, n_features):\n",
    "    x_input = x_input.reshape((1, n_steps+features_length, n_features))\n",
    "    yhat = model.predict(x_input, verbose=0)\n",
    "    return yhat\n",
    "\n",
    "def make_prediction(raw_seq, n_steps, features_data, num_pred):\n",
    "    features_length = len(features_data)\n",
    "    yhat_array = np.zeros(num_pred)\n",
    "    for i in range(num_pred):\n",
    "        if i == 0:\n",
    "            x_input = raw_seq[-n_steps:]\n",
    "            x_input = np.append(x_input,features_data)\n",
    "            yhat = single_pred(x_input, n_steps, features_length, n_features)\n",
    "            yhat_array[i] = yhat\n",
    "        else:\n",
    "            x_input = np.append(x_input[1:3],yhat) # create feature from previous prediction\n",
    "            x_input = np.append(x_input,features_data) # insert stationary feature\n",
    "            yhat = single_pred(x_input, n_steps, features_length, n_features)\n",
    "            yhat_array[i] = yhat\n",
    "    return yhat_array\n",
    "\n",
    "yhat_array = make_prediction(raw_seq, 3, np.array([2,40,3]),5)\n",
    "print(yhat_array)\n",
    "\n",
    "# Evaluate the trained model\n",
    "# score = model.evaluate(x_test, y_test, verbose=0)"
   ]
  },
  {
   "cell_type": "code",
   "execution_count": 13,
   "metadata": {},
   "outputs": [
    {
     "data": {
      "text/plain": [
       "Text(0, 0.5, 'y')"
      ]
     },
     "execution_count": 13,
     "metadata": {},
     "output_type": "execute_result"
    },
    {
     "data": {
      "image/png": "[encoded data removed]",
      "text/plain": [
       "<Figure size 500x500 with 1 Axes>"
      ]
     },
     "metadata": {
      "needs_background": "light"
     },
     "output_type": "display_data"
    }
   ],
   "source": [
    "# Plotting\n",
    "fig, ax = plt.subplots(figsize=(5,5),dpi=100)\n",
    "ax.scatter(range(len(raw_seq)),raw_seq,label='data')\n",
    "pred_order = len(raw_seq)+5 #num_pred = 5\n",
    "ax.scatter(range(len(raw_seq),pred_order),yhat_array,label='predict')\n",
    "ax.legend()\n",
    "ax.set_xlabel('sequence order')\n",
    "ax.set_ylabel('y')"
   ]
  },
  {
   "cell_type": "code",
   "execution_count": 6,
   "metadata": {},
   "outputs": [
    {
     "name": "stdout",
     "output_type": "stream",
     "text": [
      "Variable          Type                          Data/Info\n",
      "---------------------------------------------------------\n",
      "Dense             type                          <class 'keras.layers.core.Dense'>\n",
      "LSTM              type                          <class 'keras.layers.recurrent.LSTM'>\n",
      "Sequential        type                          <class 'keras.engine.sequential.Sequential'>\n",
      "X                 ndarray                       6x6x1: 36 elems, type `int32`, 144 bytes\n",
      "abc               ndarray                       3: 3 elems, type `int32`, 12 bytes\n",
      "array             builtin_function_or_method    <built-in function array>\n",
      "ax                AxesSubplot                   AxesSubplot(0.125,0.125;0.775x0.755)\n",
      "features_data     ndarray                       3: 3 elems, type `int32`, 12 bytes\n",
      "features_length   int                           3\n",
      "fig               Figure                        Figure(500x500)\n",
      "make_prediction   function                      <function make_prediction at 0x00000233C9618620>\n",
      "model             Sequential                    <keras.engine.sequential.<...>ct at 0x00000233CFC7A160>\n",
      "n_features        int                           1\n",
      "n_steps           int                           3\n",
      "np                module                        <module 'numpy' from 'C:\\<...>ges\\\\numpy\\\\__init__.py'>\n",
      "plt               module                        <module 'matplotlib.pyplo<...>\\\\matplotlib\\\\pyplot.py'>\n",
      "pred_order        int                           14\n",
      "raw_seq           list                          n=9\n",
      "single_pred       function                      <function single_pred at 0x00000233D25B2D08>\n",
      "split_sequence    function                      <function split_sequence at 0x00000233C9A25EA0>\n",
      "x_input           ndarray                       1x6x1: 6 elems, type `int32`, 24 bytes\n",
      "y                 ndarray                       6: 6 elems, type `int32`, 24 bytes\n",
      "yhat              ndarray                       1x1: 1 elems, type `float32`, 4 bytes\n",
      "yhat_array        ndarray                       5: 5 elems, type `float64`, 40 bytes\n"
     ]
    }
   ],
   "source": [
    "%whos"
   ]
  }
 ],
 "metadata": {
  "kernelspec": {
   "display_name": "Python 3",
   "language": "python",
   "name": "python3"
  },
  "language_info": {
   "codemirror_mode": {
    "name": "ipython",
    "version": 3
   },
   "file_extension": ".py",
   "mimetype": "text/x-python",
   "name": "python",
   "nbconvert_exporter": "python",
   "pygments_lexer": "ipython3",
   "version": "3.6.12"
  }
 },
 "nbformat": 4,
 "nbformat_minor": 4
}
